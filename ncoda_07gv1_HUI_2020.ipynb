{
 "cells": [
  {
   "attachments": {},
   "cell_type": "markdown",
   "metadata": {
    "id": "nDetVnGnoHR-"
   },
   "source": [
    "# Housing Unit Allocation with Person Record File Full Workflow\n",
    "\n",
    "## Overview\n",
    "This code works with the National Structures Inventory to run the housing unit allocation (HUA) and the person record file (PREC) workflow.\n",
    "The HUA process is generalizable to any county in the United States. The HUA process will work for any file that has locations of structures and some basic information about the buildings.\n",
    "The process is designed to work with [IN-CORE](https://incore.ncsa.illinois.edu/), a community resilience modeling environment.\n",
    "Using IN-CORE requires an account and access to the IN-CORE Dataservice.\n",
    "\n",
    "Functions are provided to obtain and clean data required for the version 2 Housing Unit Allocation. \n",
    "\n",
    "## Required Inputs\n",
    "Program requires the following inputs:\n",
    "If using the National Structures Inventory there are no required inputs.\n",
    "    \n",
    "## Output Description\n",
    "The output of this workflow is a CSV file with the housing unit inventory allocated to a building inventory using the housing unit allocation model.\n",
    "\n",
    "The output CSV is designed to be used in the Interdependent Networked Community Resilience Modeling Environment (IN-CORE).\n",
    "\n",
    "IN-CORE is an open source python package that can be used to model the resilience of a community. To download IN-CORE, see:\n",
    "\n",
    "https://incore.ncsa.illinois.edu/\n",
    "\n",
    "\n",
    "## Instructions\n",
    "Users can run the workflow by executing each block of code in the notebook."
   ]
  },
  {
   "attachments": {},
   "cell_type": "markdown",
   "metadata": {},
   "source": [
    "## Description of Program\n",
    "- program:    ncoda_07fv1_HUA_PREC_NSI\n",
    "- task:       Start with NSI building inventory, run housing unit allocation algorithm, and then run person record file algorithm\n",
    "- See github commits for description of program updates\n",
    "- Current Version: v1 - \n",
    "- 2024-02-20 - Combine code from 07c, 07d, and 07e into one notebook\n",
    "- 2024-05-22 - removed the drop down menu, did not work consistently\n",
    "- project:    Interdependent Networked Community Resilience Modeling Environment (IN-CORE), Subtask 5.2 - Social Institutions\n",
    "- funding:\t  NIST Financial Assistance Award Numbers: 70NANB15H044 and 70NANB20H008 \n",
    "- author:     Nathanael Rosenheim\n",
    "\n",
    "## Required Citations:\n",
    "Rosenheim, Nathanael, Roberto Guidotti, Paolo Gardoni & Walter Gillis Peacock. (2021). Integration of detailed household and housing unit characteristic data with critical infrastructure for post-hazard resilience modeling. _Sustainable and Resilient Infrastructure_. 6(6), 385-401. https://doi.org/10.1080/23789689.2019.1681821\n",
    "\n",
    "Rosenheim, Nathanael (2021) “Detailed Household and Housing Unit Characteristics: Data and Replication Code.” _DesignSafe-CI_. \n",
    "https://doi.org/10.17603/ds2-jwf6-s535."
   ]
  },
  {
   "cell_type": "code",
   "execution_count": 1,
   "metadata": {},
   "outputs": [],
   "source": [
    "# To reload submodules need to use this magic command to set autoreload on\n",
    "%load_ext autoreload\n",
    "%autoreload 2\n",
    "from pyncoda.ncoda_00g_community_options import *\n",
    "from IPython.display import display"
   ]
  },
  {
   "cell_type": "markdown",
   "metadata": {},
   "source": [
    "### How to set up the Community Dictionary\n",
    "Please review the python code in the file pyncoda/ncoda_00g_community_options.py\n",
    "\n",
    "In this file you will find a collection of data dictionaries with various ways to setup the inputs for the Housing Unit Allocation process. \n",
    "\n",
    "The basic dictionary includes the name of the community, the county FIPS code, your input building inventory file, and key variables in the building inventory file."
   ]
  },
  {
   "cell_type": "code",
   "execution_count": 2,
   "metadata": {},
   "outputs": [
    {
     "data": {
      "text/plain": [
       "['Lumberton, NC: IN-CORE Building inventory for Robeson County, NC',\n",
       " 'Galveston, TX: IN-CORE Building inventory for Galveston County, TX',\n",
       " 'Galveston, TX: NSI Building inventory for Galveston County, TX',\n",
       " 'Galveston, TX: IN-CORE Building inventory for Galveston Island, TX',\n",
       " 'Mayfield, KY: NSI Building inventory for Graves County, KY',\n",
       " 'Beaumont, TX: NSI Building inventory for Jefferson County, TX',\n",
       " 'Beaumont, TX: Safayet Building inventory for Jefferson County, TX',\n",
       " 'Pentwater, MI: NSI Building inventory for Oceana County, MI',\n",
       " 'Seaside, OR: NSI Building inventory for Clatsop County, OR',\n",
       " 'Lane County, OR: NSI Building inventory for Lane County, OR',\n",
       " 'Benton County, OR: NSI Building inventory for Benton County, OR',\n",
       " 'Southeast Texas Urban Integrated Field Lab: NSI Building inventory for Southeast Texas',\n",
       " 'Brazos County, TX: NSI Building inventory for Brazos County, TX']"
      ]
     },
     "execution_count": 2,
     "metadata": {},
     "output_type": "execute_result"
    }
   ],
   "source": [
    "# select a community from this list\n",
    "# if your community is not in this list, add it to the file ncoda_00g_community_options.py\n",
    "list_community_options(communities_dictionary)"
   ]
  },
  {
   "cell_type": "code",
   "execution_count": 9,
   "metadata": {},
   "outputs": [],
   "source": [
    "community_id_by_name = 'Seaside, OR: NSI Building inventory for Clatsop County, OR'"
   ]
  },
  {
   "cell_type": "code",
   "execution_count": 10,
   "metadata": {},
   "outputs": [
    {
     "name": "stdout",
     "output_type": "stream",
     "text": [
      "Selected community ID: Seaside_OR_NSI\n",
      "Seaside, OR is in OREGON\n",
      "Focal place: Seaside\n",
      "Seaside, OR is in Clatsop County, OR with FIPS code 41007\n",
      "Use IN-CORE: False\n"
     ]
    }
   ],
   "source": [
    "community_id, focalplace, countyname, countyfips = get_community_id_by_name(community_id_by_name)\n",
    "communities = {community_id : communities_dictionary[community_id]}"
   ]
  },
  {
   "attachments": {},
   "cell_type": "markdown",
   "metadata": {},
   "source": [
    "## Setup Python Environment"
   ]
  },
  {
   "cell_type": "code",
   "execution_count": 5,
   "metadata": {},
   "outputs": [],
   "source": [
    "import pandas as pd\n",
    "import geopandas as gpd # For reading in shapefiles\n",
    "import numpy as np\n",
    "import sys # For displaying package versions\n",
    "import os # For managing directories and file paths if drive is mounted\n",
    "import scooby # Reports Python environment\n",
    "\n",
    "import contextily as cx # For adding basemap tiles to plot\n",
    "import matplotlib.pyplot as plt # For plotting and making graphs"
   ]
  },
  {
   "cell_type": "code",
   "execution_count": 6,
   "metadata": {},
   "outputs": [],
   "source": [
    "# open, read, and execute python program with reusable commands\n",
    "from pyncoda.ncoda_00d_cleanvarsutils import *\n",
    "from pyncoda.ncoda_04c_poptableresults import *\n",
    "from pyncoda.ncoda_07i_process_communities import process_community_workflow"
   ]
  },
  {
   "cell_type": "code",
   "execution_count": 7,
   "metadata": {},
   "outputs": [
    {
     "name": "stdout",
     "output_type": "stream",
     "text": [
      "\n",
      "--------------------------------------------------------------------------------\n",
      "  Date: Thu Feb 20 10:35:48 2025 Central Standard Time\n",
      "\n",
      "                OS : Windows (10 10.0.22631 SP0 Multiprocessor Free)\n",
      "            CPU(s) : 16\n",
      "           Machine : AMD64\n",
      "      Architecture : 64bit\n",
      "               RAM : 31.7 GiB\n",
      "       Environment : Jupyter\n",
      "\n",
      "  Python 3.10.14 | packaged by Anaconda, Inc. | (main, May  6 2024, 19:44:50)\n",
      "  [MSC v.1916 64 bit (AMD64)]\n",
      "\n",
      "            pandas : 2.2.2\n",
      "        ipyleaflet : Module not found\n",
      "           seaborn : 0.13.2\n",
      "        contextily : 1.6.0\n",
      "          pyincore : Module not found\n",
      "      pyincore_viz : Module not found\n",
      "             numpy : 1.26.4\n",
      "             scipy : 1.13.1\n",
      "           IPython : 8.25.0\n",
      "        matplotlib : 3.8.4\n",
      "            scooby : 0.10.0\n",
      "\n",
      "  Intel(R) oneAPI Math Kernel Library Version 2023.1-Product Build 20230303\n",
      "  for Intel(R) 64 architecture applications\n",
      "--------------------------------------------------------------------------------\n"
     ]
    }
   ],
   "source": [
    "# Generate report of Python environment\n",
    "base_packages = ['pandas','ipyleaflet','seaborn','contextily']\n",
    "incore_packages = ['pyincore','pyincore_viz']\n",
    "check_packages = base_packages + incore_packages\n",
    "print(scooby.Report(additional=check_packages))"
   ]
  },
  {
   "cell_type": "code",
   "execution_count": 8,
   "metadata": {},
   "outputs": [
    {
     "data": {
      "text/plain": [
       "'c:\\\\Users\\\\nathanael99\\\\MyProjects\\\\GitHub\\\\intersect-community-data'"
      ]
     },
     "execution_count": 8,
     "metadata": {},
     "output_type": "execute_result"
    }
   ],
   "source": [
    "# Check working directory - good practice for relative path access\n",
    "os.getcwd()"
   ]
  },
  {
   "attachments": {},
   "cell_type": "markdown",
   "metadata": {},
   "source": [
    "## Run Housing Unit Allocation\n",
    "The following code will produce the following outputs:\n",
    "1. Housing Unit Inventory\n",
    "2. Address Point Inventory\n",
    "3. Housing Unit Allocation"
   ]
  },
  {
   "cell_type": "code",
   "execution_count": 23,
   "metadata": {},
   "outputs": [],
   "source": [
    "# open, read, and execute python program with reusable commands\n",
    "from pyncoda.ncoda_00b_directory_design import directory_design\n",
    "from pyncoda.CommunitySourceData.api_census_gov.acg_01a_BaseInventory import BaseInventory\n",
    "\n",
    "seed = 9876\n",
    "version = '2.0.0'\n",
    "version_text = 'v2-0-0'\n",
    "basevintage = 2010\n",
    "outputfolder =\"OutputData\"\n",
    "outputfolders = {}\n",
    "savefiles = True\n",
    "use_incore = False"
   ]
  },
  {
   "cell_type": "code",
   "execution_count": 24,
   "metadata": {},
   "outputs": [],
   "source": [
    "for community in communities.keys():\n",
    "\n",
    "    # Create empty container to store outputs for in-core\n",
    "    # Will use these to combine multiple counties\n",
    "    hui_incore_county_df = {}\n",
    "    title = \"Housing Unit Inventory v2.0.0 data for \"+communities[community]['community_name']\n",
    "    print(\"Generating\",title)\n",
    "    output_filename = f'hui_{version_text}_{community}_{basevintage}_rs{seed}'\n",
    "\n",
    "    county_list = ''\n",
    "\n",
    "    # set output folder\n",
    "    outputfolders = directory_design(\n",
    "                        state_county_name = community,\n",
    "                        outputfolder = outputfolder)\n",
    "\n",
    "    # community dictionary\n",
    "    community_dict = communities[community]\n",
    "    use_incore = community_dict['building_inventory']['use_incore']\n",
    "\n",
    "\n",
    "    # Workflow for generating HUI data for IN-CORE\n",
    "    for county in communities[community]['counties'].keys():\n",
    "        state_county = communities[community]['counties'][county]['FIPS Code']\n",
    "        state_county_name  = communities[community]['counties'][county]['Name']\n",
    "        print(state_county_name,': county FIPS Code',state_county)\n",
    "        county_list = county_list + state_county_name+': county FIPS Code '+state_county\n",
    "\n",
    "        print(\"Generating HUI data for\",state_county_name)\n",
    "\n",
    "        # create output folders for hui data generation\n",
    "        outputfolders = directory_design(state_county_name = community,\n",
    "                                            outputfolder = outputfolder)\n",
    "                          \n",
    "        # Generate base housing unit inventory\n",
    "        block_df = {}\n",
    "        block_df['core'] = BaseInventory.get_apidata(state_county = state_county,\n",
    "                                    outputfolders = outputfolders,\n",
    "                                    outputfile = \"CoreHUI\")"
   ]
  },
  {
   "cell_type": "code",
   "execution_count": 25,
   "metadata": {},
   "outputs": [
    {
     "data": {
      "text/html": [
       "<div>\n",
       "<style scoped>\n",
       "    .dataframe tbody tr th:only-of-type {\n",
       "        vertical-align: middle;\n",
       "    }\n",
       "\n",
       "    .dataframe tbody tr th {\n",
       "        vertical-align: top;\n",
       "    }\n",
       "\n",
       "    .dataframe thead th {\n",
       "        text-align: right;\n",
       "    }\n",
       "</style>\n",
       "<table border=\"1\" class=\"dataframe\">\n",
       "  <thead>\n",
       "    <tr style=\"text-align: right;\">\n",
       "      <th></th>\n",
       "      <th>huid</th>\n",
       "      <th>Block2010</th>\n",
       "      <th>Block2010str</th>\n",
       "      <th>numprec</th>\n",
       "      <th>ownershp</th>\n",
       "      <th>family</th>\n",
       "      <th>race</th>\n",
       "      <th>hispan</th>\n",
       "      <th>vacancy</th>\n",
       "      <th>gqtype</th>\n",
       "      <th>hu_counter</th>\n",
       "    </tr>\n",
       "  </thead>\n",
       "  <tbody>\n",
       "    <tr>\n",
       "      <th>0</th>\n",
       "      <td>B410079501001001H001</td>\n",
       "      <td>410079501001001</td>\n",
       "      <td>B410079501001001</td>\n",
       "      <td>1.0</td>\n",
       "      <td>1.0</td>\n",
       "      <td>0.0</td>\n",
       "      <td>1.0</td>\n",
       "      <td>0.0</td>\n",
       "      <td>NaN</td>\n",
       "      <td>NaN</td>\n",
       "      <td>1</td>\n",
       "    </tr>\n",
       "    <tr>\n",
       "      <th>1</th>\n",
       "      <td>B410079501001001H002</td>\n",
       "      <td>410079501001001</td>\n",
       "      <td>B410079501001001</td>\n",
       "      <td>2.0</td>\n",
       "      <td>1.0</td>\n",
       "      <td>-999.0</td>\n",
       "      <td>1.0</td>\n",
       "      <td>0.0</td>\n",
       "      <td>NaN</td>\n",
       "      <td>NaN</td>\n",
       "      <td>2</td>\n",
       "    </tr>\n",
       "    <tr>\n",
       "      <th>2</th>\n",
       "      <td>B410079501001001H003</td>\n",
       "      <td>410079501001001</td>\n",
       "      <td>B410079501001001</td>\n",
       "      <td>2.0</td>\n",
       "      <td>2.0</td>\n",
       "      <td>-999.0</td>\n",
       "      <td>1.0</td>\n",
       "      <td>0.0</td>\n",
       "      <td>NaN</td>\n",
       "      <td>NaN</td>\n",
       "      <td>3</td>\n",
       "    </tr>\n",
       "    <tr>\n",
       "      <th>3</th>\n",
       "      <td>B410079501001003H001</td>\n",
       "      <td>410079501001003</td>\n",
       "      <td>B410079501001003</td>\n",
       "      <td>1.0</td>\n",
       "      <td>2.0</td>\n",
       "      <td>0.0</td>\n",
       "      <td>1.0</td>\n",
       "      <td>0.0</td>\n",
       "      <td>NaN</td>\n",
       "      <td>NaN</td>\n",
       "      <td>1</td>\n",
       "    </tr>\n",
       "    <tr>\n",
       "      <th>4</th>\n",
       "      <td>B410079501001003H002</td>\n",
       "      <td>410079501001003</td>\n",
       "      <td>B410079501001003</td>\n",
       "      <td>1.0</td>\n",
       "      <td>2.0</td>\n",
       "      <td>0.0</td>\n",
       "      <td>1.0</td>\n",
       "      <td>0.0</td>\n",
       "      <td>NaN</td>\n",
       "      <td>NaN</td>\n",
       "      <td>2</td>\n",
       "    </tr>\n",
       "  </tbody>\n",
       "</table>\n",
       "</div>"
      ],
      "text/plain": [
       "                   huid        Block2010      Block2010str  numprec  ownershp  \\\n",
       "0  B410079501001001H001  410079501001001  B410079501001001      1.0       1.0   \n",
       "1  B410079501001001H002  410079501001001  B410079501001001      2.0       1.0   \n",
       "2  B410079501001001H003  410079501001001  B410079501001001      2.0       2.0   \n",
       "3  B410079501001003H001  410079501001003  B410079501001003      1.0       2.0   \n",
       "4  B410079501001003H002  410079501001003  B410079501001003      1.0       2.0   \n",
       "\n",
       "   family  race  hispan  vacancy  gqtype  hu_counter  \n",
       "0     0.0   1.0     0.0      NaN     NaN           1  \n",
       "1  -999.0   1.0     0.0      NaN     NaN           2  \n",
       "2  -999.0   1.0     0.0      NaN     NaN           3  \n",
       "3     0.0   1.0     0.0      NaN     NaN           1  \n",
       "4     0.0   1.0     0.0      NaN     NaN           2  "
      ]
     },
     "execution_count": 25,
     "metadata": {},
     "output_type": "execute_result"
    }
   ],
   "source": [
    "block_df['core'].head()"
   ]
  }
 ],
 "metadata": {
  "colab": {
   "name": "IN-CORE_1dv1_Lumberton_CleanLODESdata_2021-05-06.ipynb",
   "provenance": []
  },
  "kernelspec": {
   "display_name": "pyncoda20240619",
   "language": "python",
   "name": "python3"
  },
  "language_info": {
   "codemirror_mode": {
    "name": "ipython",
    "version": 3
   },
   "file_extension": ".py",
   "mimetype": "text/x-python",
   "name": "python",
   "nbconvert_exporter": "python",
   "pygments_lexer": "ipython3",
   "version": "3.10.14"
  }
 },
 "nbformat": 4,
 "nbformat_minor": 1
}
